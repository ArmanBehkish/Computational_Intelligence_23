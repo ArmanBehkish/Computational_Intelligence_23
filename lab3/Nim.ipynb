{
  "nbformat": 4,
  "nbformat_minor": 0,
  "metadata": {
    "colab": {
      "provenance": [],
      "authorship_tag": "ABX9TyOZsSAU1sZydocEcL0VR9pO",
      "include_colab_link": true
    },
    "kernelspec": {
      "name": "python3",
      "display_name": "Python 3"
    },
    "language_info": {
      "name": "python"
    }
  },
  "cells": [
    {
      "cell_type": "markdown",
      "metadata": {
        "id": "view-in-github",
        "colab_type": "text"
      },
      "source": [
        "<a href=\"https://colab.research.google.com/github/ArmanBehkish/Computational_Intelligence_23/blob/main/lab3/Nim.ipynb\" target=\"_parent\"><img src=\"https://colab.research.google.com/assets/colab-badge.svg\" alt=\"Open In Colab\"/></a>"
      ]
    },
    {
      "cell_type": "markdown",
      "source": [
        "# **Lab 3: Policy Search**\n",
        "<br> Task: Write agents able to play Nim, with an arbitrary number of rows and an upper bound  on the number of objects that can be removed in a turn (a.k.a., subtraction game).\n",
        "\n",
        "The player **taking the last object wins.**\n",
        "\n",
        ">* Task3.1: An agent using fixed rules based on nim-sum (i.e., an expert system)<br>\n",
        ">* Task3.2: An agent using evolved rules<br>\n",
        ">* Task3.3: An agent using minmax<br>\n",
        ">* Task3.4: An agent using reinforcement learning<br>"
      ],
      "metadata": {
        "id": "Y7ssRlQTWNaR"
      }
    },
    {
      "cell_type": "code",
      "execution_count": 46,
      "metadata": {
        "id": "NMJkTxb209FS"
      },
      "outputs": [],
      "source": [
        "import logging\n",
        "import random\n",
        "from collections import namedtuple\n",
        "import random\n",
        "from typing import Callable\n",
        "from copy import deepcopy\n",
        "from itertools import accumulate\n",
        "from operator import xor\n",
        "\n",
        "\n",
        "logging.getLogger().setLevel(logging.DEBUG)"
      ]
    },
    {
      "cell_type": "code",
      "source": [
        "Nimply = namedtuple(\"Nimply\", \"row, num_obj\")\n",
        "\n",
        "class Nim:\n",
        "    def __init__(self, num_rows: int, k: int = None) -> None:\n",
        "        self._rows = [i*2 + 1 for i in range(num_rows)]\n",
        "        self._k = k\n",
        "\n",
        "    def nimming(self, ply:Nimply) -> None:\n",
        "        row, num_objects = ply\n",
        "        assert self._rows[row] >= num_objects\n",
        "        assert self._k is None or num_objects <= self._k\n",
        "        self._rows[row] -= num_objects\n",
        "        # if sum(self._rows) == 0:\n",
        "        #     logging.debug(\"Yeuch\")\n",
        "    \n",
        "    @property\n",
        "    def rows(self) -> list:\n",
        "        return list(self._rows)\n",
        "\n",
        "    def __repr__(self) -> str:\n",
        "       return(f\"Current Game is: {self._rows}\")\n",
        "\n",
        "    def finito(self) -> bool:\n",
        "      return(sum(self._rows) == 0)"
      ],
      "metadata": {
        "id": "1bpvLNJc1Rgs"
      },
      "execution_count": 47,
      "outputs": []
    },
    {
      "cell_type": "markdown",
      "source": [
        "### **Setup of Basic functions for later testing**\n",
        "<br> Manual Play, Pure Random Play and rule-based Play(performs the first random move which makes the num-sum of the board zero.) The player playing with this strategy always win."
      ],
      "metadata": {
        "id": "lvcIu_zZPXi0"
      }
    },
    {
      "cell_type": "code",
      "source": [
        "def manual_play(GAME,player):\n",
        "  print(f\"Player {player} turn: row,num_objects: \")\n",
        "  row,num_objs = input().split(\",\")\n",
        "  ply = Nimply(int(row),int(num_objs))\n",
        "  print(f\"player {player} is doing the move: {row},{num_obj}\")\n",
        "  GAME.nimming(ply)\n",
        "  print(GAME)\n",
        "\n",
        "def random_play(GAME,player):\n",
        "  assert sum(GAME._rows) > 0\n",
        "  while(True):\n",
        "    row = random.randint(0,len(GAME._rows)-1)\n",
        "    if GAME._rows[row] is not 0:\n",
        "      break\n",
        "  while(True):\n",
        "    num_obj = random.randint(0,GAME._rows[row])\n",
        "    if num_obj is not 0:\n",
        "      break\n",
        "  print(f\"player {player} is doing the move: {row},{num_obj}\")\n",
        "  ply = Nimply(row,num_obj)\n",
        "  GAME.nimming(ply)\n",
        "  print(GAME)\n",
        "\n",
        "def nimsum_play(GAME: Nim,player):\n",
        "  assert sum(GAME._rows) > 0\n",
        "  while(True):\n",
        "    row = random.randint(0,len(GAME._rows)-1)\n",
        "    num_obj = random.randint(0,GAME._rows[row])\n",
        "    if GAME._rows[row] is 0:\n",
        "      continue\n",
        "    temp_game_rows = deepcopy(GAME.rows)\n",
        "    temp_game_rows[row] -= num_obj\n",
        "    *_, result = accumulate(temp_game_rows, xor)\n",
        "    if result==0:\n",
        "      print(f\"player {player} is doing the move: {row},{num_obj}\")\n",
        "      ply = Nimply(row,num_obj)\n",
        "      GAME.nimming(ply)\n",
        "      print(GAME)\n",
        "      break\n",
        "    else:\n",
        "      continue  \n",
        "\n",
        "def play(game_size,N, a_strategy, b_strategy,players):\n",
        "  a_wins = 0\n",
        "  b_wins = 0\n",
        "  opponent = (a_strategy, b_strategy)\n",
        "  for i in range(N):\n",
        "    GAME = Nim(game_size)\n",
        "    print(f\"{GAME}, players: {players}\")\n",
        "    # Main game loop\n",
        "    while(True):\n",
        "      player=0\n",
        "      #if a_strategy is \"random\":\n",
        "      opponent[player](GAME,players[player])\n",
        "      if(GAME.finito()):\n",
        "        print(f\"Winner is Player: {players[player]}!\")\n",
        "        a_wins += 1\n",
        "        break  \n",
        "      player=1\n",
        "      opponent[player](GAME,players[player])\n",
        "      if(GAME.finito()):\n",
        "        print(f\"Winner is Player: {players[player]}!\")\n",
        "        b_wins += 1\n",
        "        break\n",
        "  return (a_wins,b_wins)\n"
      ],
      "metadata": {
        "id": "0MLRzysQ1TC3"
      },
      "execution_count": 48,
      "outputs": []
    },
    {
      "cell_type": "markdown",
      "source": [
        "### Throw the game N times to evaluate the performance of strategies"
      ],
      "metadata": {
        "id": "m2Tr9tI8RNca"
      }
    },
    {
      "cell_type": "code",
      "source": [
        "#Number of Plays\n",
        "N = 3\n",
        "#Confiture Game Board\n",
        "game_size = 5\n",
        "players = {0:\"A\",1:\"B\"}\n",
        "#Set strategy for each player\n",
        "a_strategy = random_play\n",
        "b_strategy = nimsum_play\n",
        "\n",
        "a_wins, b_wins = play(game_size,N, a_strategy, b_strategy,players)\n",
        "\n",
        "print(f\"Player {players[0]} has won {a_wins} games, Player {players[1]} has won {b_wins} games!\")"
      ],
      "metadata": {
        "colab": {
          "base_uri": "https://localhost:8080/"
        },
        "id": "-1CwGV0kPRKU",
        "outputId": "22669826-252e-40ad-e34f-66c8d7affee9"
      },
      "execution_count": 49,
      "outputs": [
        {
          "output_type": "stream",
          "name": "stdout",
          "text": [
            "Current Game is: [1, 3, 5, 7, 9], players: {0: 'A', 1: 'B'}\n",
            "player A is doing the move: 0,1\n",
            "Current Game is: [0, 3, 5, 7, 9]\n",
            "player B is doing the move: 4,8\n",
            "Current Game is: [0, 3, 5, 7, 1]\n",
            "player A is doing the move: 4,1\n",
            "Current Game is: [0, 3, 5, 7, 0]\n",
            "player B is doing the move: 2,1\n",
            "Current Game is: [0, 3, 4, 7, 0]\n",
            "player A is doing the move: 2,1\n",
            "Current Game is: [0, 3, 3, 7, 0]\n",
            "player B is doing the move: 3,7\n",
            "Current Game is: [0, 3, 3, 0, 0]\n",
            "player A is doing the move: 1,1\n",
            "Current Game is: [0, 2, 3, 0, 0]\n",
            "player B is doing the move: 2,1\n",
            "Current Game is: [0, 2, 2, 0, 0]\n",
            "player A is doing the move: 2,2\n",
            "Current Game is: [0, 2, 0, 0, 0]\n",
            "player B is doing the move: 1,2\n",
            "Current Game is: [0, 0, 0, 0, 0]\n",
            "Winner is Player: B!\n",
            "Current Game is: [1, 3, 5, 7, 9], players: {0: 'A', 1: 'B'}\n",
            "player A is doing the move: 4,7\n",
            "Current Game is: [1, 3, 5, 7, 2]\n",
            "player B is doing the move: 1,2\n",
            "Current Game is: [1, 1, 5, 7, 2]\n",
            "player A is doing the move: 3,7\n",
            "Current Game is: [1, 1, 5, 0, 2]\n",
            "player B is doing the move: 2,3\n",
            "Current Game is: [1, 1, 2, 0, 2]\n",
            "player A is doing the move: 0,1\n",
            "Current Game is: [0, 1, 2, 0, 2]\n",
            "player B is doing the move: 1,1\n",
            "Current Game is: [0, 0, 2, 0, 2]\n",
            "player A is doing the move: 2,1\n",
            "Current Game is: [0, 0, 1, 0, 2]\n",
            "player B is doing the move: 4,1\n",
            "Current Game is: [0, 0, 1, 0, 1]\n",
            "player A is doing the move: 2,1\n",
            "Current Game is: [0, 0, 0, 0, 1]\n",
            "player B is doing the move: 4,1\n",
            "Current Game is: [0, 0, 0, 0, 0]\n",
            "Winner is Player: B!\n",
            "Current Game is: [1, 3, 5, 7, 9], players: {0: 'A', 1: 'B'}\n",
            "player A is doing the move: 2,2\n",
            "Current Game is: [1, 3, 3, 7, 9]\n",
            "player B is doing the move: 4,3\n",
            "Current Game is: [1, 3, 3, 7, 6]\n",
            "player A is doing the move: 2,2\n",
            "Current Game is: [1, 3, 1, 7, 6]\n",
            "player B is doing the move: 1,2\n",
            "Current Game is: [1, 1, 1, 7, 6]\n",
            "player A is doing the move: 0,1\n",
            "Current Game is: [0, 1, 1, 7, 6]\n",
            "player B is doing the move: 1,1\n",
            "Current Game is: [0, 0, 1, 7, 6]\n",
            "player A is doing the move: 4,4\n",
            "Current Game is: [0, 0, 1, 7, 2]\n",
            "player B is doing the move: 3,4\n",
            "Current Game is: [0, 0, 1, 3, 2]\n",
            "player A is doing the move: 4,1\n",
            "Current Game is: [0, 0, 1, 3, 1]\n",
            "player B is doing the move: 3,3\n",
            "Current Game is: [0, 0, 1, 0, 1]\n",
            "player A is doing the move: 4,1\n",
            "Current Game is: [0, 0, 1, 0, 0]\n",
            "player B is doing the move: 2,1\n",
            "Current Game is: [0, 0, 0, 0, 0]\n",
            "Winner is Player: B!\n",
            "Player A has won 0 games, Player B has won 3 games!\n"
          ]
        }
      ]
    }
  ]
}